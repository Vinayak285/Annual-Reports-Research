{
 "cells": [
  {
   "cell_type": "markdown",
   "metadata": {},
   "source": [
    "# Generating original factor data (delayed reporting assumption) as required by alphalens for analysis"
   ]
  },
  {
   "cell_type": "code",
   "execution_count": 1,
   "metadata": {
    "scrolled": true
   },
   "outputs": [],
   "source": [
    "import pickle\n",
    "from itertools import product\n",
    "import pandas as pd"
   ]
  },
  {
   "cell_type": "code",
   "execution_count": 2,
   "metadata": {},
   "outputs": [],
   "source": [
    "with open('nifty_next_tickers.pickle', 'rb') as f:\n",
    "    tickers = pickle.load(f)"
   ]
  },
  {
   "cell_type": "code",
   "execution_count": 3,
   "metadata": {},
   "outputs": [],
   "source": [
    "prices = pd.read_csv('concatenated_prices.csv', index_col = 0)\n",
    "prices.index = pd.to_datetime(prices.index, utc = True, infer_datetime_format= True)"
   ]
  },
  {
   "cell_type": "code",
   "execution_count": 4,
   "metadata": {},
   "outputs": [],
   "source": [
    "# setting variables required for generating factor data\n",
    "year_dict = {2011:'2011-06-15', 2012:'2012-06-15', 2013:'2013-06-16', 2014:'2014-06-16', 2015:'2015-06-15',\n",
    "             2016:'2016-06-15', 2017:'2017-06-15', 2018:'2018-06-15', 2019:'2019-06-17', 2020:'2020-01-01', }\n",
    "\n",
    "sentiments = ['Negative', 'Positive', 'Litigious', 'Uncertainty',\n",
    "              'StrongModal', 'WeakModal', 'Constraining']\n",
    "\n",
    "factor_path = 'Sentiment_analysis.xlsx'\n",
    "\n",
    "idx = pd.date_range(start = '2011-03-01', end = '2020-01-31', tz = 'utc')"
   ]
  },
  {
   "cell_type": "code",
   "execution_count": 5,
   "metadata": {},
   "outputs": [],
   "source": [
    "# forward filling empty cells with the year's sentiment values until new reports are analyzed\n",
    "def ffill_sentiments(df):\n",
    "    df = df.groupby(level='Asset').apply(lambda x: x.reset_index(level='Asset',drop=True).reset_index().set_index('Date').reindex(idx,method='ffill')).swaplevel().reset_index().rename(columns = {'level_0': 'Date'}).set_index(['Date', 'Asset'])\n",
    "    return df"
   ]
  },
  {
   "cell_type": "code",
   "execution_count": 6,
   "metadata": {
    "scrolled": true
   },
   "outputs": [],
   "source": [
    "# creating factor data \n",
    "def generate_factor_df(tickers_list, prices_df, factor_path):\n",
    "    \n",
    "    all_dates = prices_df.index.tolist()\n",
    "    indexes = list(product(all_dates, tickers_list))\n",
    "    indexes = pd.MultiIndex.from_tuples(indexes)\n",
    "\n",
    "    factor_df = pd.DataFrame(index = indexes, columns = sentiments)\n",
    "    factor_df.reset_index(inplace = True)\n",
    "    factor_df.rename(columns = {'level_0': 'Date', 'level_1':'Asset'}, inplace = True)\n",
    "    factor_df.set_index(['Date', 'Asset'], inplace = True)\n",
    "  \n",
    "    for ticker in tickers_list:\n",
    "    \n",
    "        stock_df = pd.read_excel(factor_path, sheet_name = ticker, index_col = 0)\n",
    "\n",
    "        year_values= stock_df.index.tolist()\n",
    "        year_values = [year_dict.get(item,item)  for item in year_values]\n",
    "        year_values = pd.to_datetime(year_values, utc = True, infer_datetime_format= True)\n",
    "        \n",
    "        stock_name = [ticker]\n",
    "        stock_index_list = list(product(year_values, stock_name))\n",
    "        stock_index = pd.MultiIndex.from_tuples(stock_index_list)\n",
    "\n",
    "        stock_df_new = pd.DataFrame(data = stock_df.values,index = stock_index, columns = stock_df.columns)\n",
    "        \n",
    "        stock_df_new.reset_index(inplace = True)\n",
    "        stock_df_new.rename(columns = {'level_0': 'Date', 'level_1': 'Asset'}, inplace = True)\n",
    "        stock_df_new.set_index(['Date', 'Asset'], inplace = True)\n",
    "        \n",
    "        stock_df_new = ffill_sentiments(stock_df_new)\n",
    "\n",
    "        factor_df =factor_df.combine_first(stock_df_new)\n",
    "        \n",
    "    return factor_df\n",
    "\n",
    "factor_path = 'Sentiment_analysis.xlsx'    \n",
    "factor_df = generate_factor_df(tickers, prices, factor_path)"
   ]
  },
  {
   "cell_type": "code",
   "execution_count": 7,
   "metadata": {},
   "outputs": [],
   "source": [
    "# assigning the negative weights to negative sentiments\n",
    "factor_df['Negative'] = - factor_df['Negative']\n",
    "factor_df['Uncertainty'] = -factor_df['Uncertainty']\n",
    "factor_df['WeakModal'] = -factor_df['WeakModal']\n",
    "factor_df['Constraining'] = -factor_df['Constraining']"
   ]
  },
  {
   "cell_type": "code",
   "execution_count": 8,
   "metadata": {},
   "outputs": [],
   "source": [
    "# defining sentiment factors\n",
    "factor_df['Crude_Sentiment'] = factor_df['Positive'] + factor_df['Negative']\n",
    "factor_df['Sentiment']= factor_df['Positive'] + factor_df['Negative'] +factor_df['Uncertainty']+ factor_df['WeakModal'] +factor_df['StrongModal'] + factor_df['Constraining']"
   ]
  },
  {
   "cell_type": "code",
   "execution_count": 9,
   "metadata": {},
   "outputs": [
    {
     "data": {
      "text/plain": [
       "Negative           float64\n",
       "Positive           float64\n",
       "Litigious          float64\n",
       "Uncertainty        float64\n",
       "StrongModal        float64\n",
       "WeakModal          float64\n",
       "Constraining       float64\n",
       "Crude_Sentiment    float64\n",
       "Sentiment          float64\n",
       "dtype: object"
      ]
     },
     "execution_count": 9,
     "metadata": {},
     "output_type": "execute_result"
    }
   ],
   "source": [
    "factor_df = factor_df.astype('float')\n",
    "factor_df.dtypes"
   ]
  },
  {
   "cell_type": "code",
   "execution_count": 24,
   "metadata": {},
   "outputs": [],
   "source": [
    "factor_df.to_csv('delayed_factor_data.csv')"
   ]
  }
 ],
 "metadata": {
  "kernelspec": {
   "display_name": "investment",
   "language": "python",
   "name": "investment"
  },
  "language_info": {
   "codemirror_mode": {
    "name": "ipython",
    "version": 3
   },
   "file_extension": ".py",
   "mimetype": "text/x-python",
   "name": "python",
   "nbconvert_exporter": "python",
   "pygments_lexer": "ipython3",
   "version": "3.6.10"
  },
  "latex_envs": {
   "LaTeX_envs_menu_present": true,
   "autoclose": false,
   "autocomplete": true,
   "bibliofile": "biblio.bib",
   "cite_by": "apalike",
   "current_citInitial": 1,
   "eqLabelWithNumbers": true,
   "eqNumInitial": 1,
   "hotkeys": {
    "equation": "Ctrl-E",
    "itemize": "Ctrl-I"
   },
   "labels_anchors": false,
   "latex_user_defs": false,
   "report_style_numbering": false,
   "user_envs_cfg": false
  }
 },
 "nbformat": 4,
 "nbformat_minor": 4
}
